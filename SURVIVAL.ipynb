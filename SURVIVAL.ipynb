{
 "cells": [
  {
   "cell_type": "code",
   "execution_count": null,
   "metadata": {},
   "outputs": [],
   "source": [
    "import pandas as pd\n",
    "from lifelines import KaplanMeierFitter\n",
    "from lifelines.statistics import logrank_test\n",
    "import matplotlib.pyplot as plt\n",
    "\n",
    "data = pd.read_csv('SURVIVAL.csv')\n",
    "\n",
    "time_column = 'TIME'\n",
    "event_column = 'EVENT'\n",
    "treatment_column = 'TREATMENT'\n",
    "\n",
    "kmf = KaplanMeierFitter()\n",
    "\n",
    "groups = data[treatment_column].unique()\n",
    "\n",
    "plt.figure(figsize=(11, 6))\n",
    "for group in groups:\n",
    "    group_data = data[data[treatment_column] == group]\n",
    "    kmf.fit(group_data[time_column], event_observed=group_data[event_column], label=group)\n",
    "    kmf.plot(ci_show=False, show_censors=True, lw=2)  \n",
    "\n",
    "    \n",
    "    mean_survival_time = kmf.survival_function_.iloc[-1].name  \n",
    "    print(f\"Mean Survival for {group}: {mean_survival_time:.2f}\")\n",
    "\n",
    "\n",
    "for i in range(len(groups)):\n",
    "    for j in range(i+1, len(groups)):\n",
    "        group1 = groups[i]\n",
    "        group2 = groups[j]\n",
    "        result = logrank_test(data[data[treatment_column] == group1][time_column],\n",
    "                              data[data[treatment_column] == group2][time_column],\n",
    "                              data[data[treatment_column] == group1][event_column],\n",
    "                              data[data[treatment_column] == group2][event_column])\n",
    "        print(f\"Log-Rank Test between {group1} and {group2}: p-value = {result.p_value:.5f}\")\n",
    "\n",
    "plt.xlabel('Time (day)', fontdict={'fontsize': 16, 'fontweight': 'bold'})\n",
    "plt.ylabel('Survival Probability', fontdict={'fontsize': 16, 'fontweight': 'bold'})\n",
    "plt.title('Kaplan-Meier Curve for Different Treatment Groups', fontdict={'fontsize': 16, 'fontweight': 'bold'})\n",
    "plt.legend(loc='upper left', bbox_to_anchor=(1, 1), frameon=False, prop={\"size\": 12}, labelspacing=1)\n",
    "plt.tick_params(axis='both', which='both', length=8, width=2, labelsize=14)\n",
    "ax = plt.gca()\n",
    "ax.spines['left'].set_linewidth(2)\n",
    "ax.spines['bottom'].set_linewidth(2)\n",
    "ax.spines['top'].set_visible(False)\n",
    "ax.spines['right'].set_visible(False)\n",
    "plt.ylim(bottom=0)\n",
    "plt.xlim(0, 71)\n",
    "plt.xticks(fontweight='bold')\n",
    "plt.yticks(fontweight='bold')\n",
    "\n",
    "plt.tight_layout()\n",
    "plt.savefig('SURVIVAL.tif', dpi=600, format='tif')\n",
    "plt.show()"
   ]
  }
 ],
 "metadata": {
  "kernelspec": {
   "display_name": "Python 3",
   "language": "python",
   "name": "python3"
  },
  "language_info": {
   "codemirror_mode": {
    "name": "ipython",
    "version": 3
   },
   "file_extension": ".py",
   "mimetype": "text/x-python",
   "name": "python",
   "nbconvert_exporter": "python",
   "pygments_lexer": "ipython3",
   "version": "3.10.9"
  }
 },
 "nbformat": 4,
 "nbformat_minor": 2
}
