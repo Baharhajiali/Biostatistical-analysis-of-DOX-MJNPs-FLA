{
 "cells": [
  {
   "cell_type": "code",
   "execution_count": null,
   "metadata": {},
   "outputs": [],
   "source": [
    "import pandas as pd\n",
    "import matplotlib.pyplot as plt\n",
    "import numpy as np\n",
    "\n",
    "# Read the CSV files\n",
    "data_ALT = pd.read_csv('LIVER ENZYMES (ALT).csv')\n",
    "data_AST = pd.read_csv('LIVER ENZYMES (AST).csv')\n",
    "\n",
    "# You may need to adjust column names accordingly\n",
    "treatments_ALT = data_ALT['TREATMENT']\n",
    "treatments_AST = data_AST['TREATMENT']\n",
    "values_ALT = data_ALT[['ALT1','ALT2','ALT3']]\n",
    "values_AST = data_AST[['AST1','AST2','AST3']]\n",
    "\n",
    "# Calculate the mean fold change values and standard deviations for each treatment for both datasets\n",
    "data_ALT['Mean_ALT'] = values_ALT.mean(axis=1)\n",
    "data_ALT['STD_ALT'] = values_ALT.std(axis=1)\n",
    "\n",
    "data_AST['Mean_AST'] = values_AST.mean(axis=1)\n",
    "data_AST['STD_AST'] = values_AST.std(axis=1)\n",
    "\n",
    "# Combine treatments and fold values\n",
    "combined_treatments = treatments_ALT.tolist()\n",
    "combined_mean_values_ALT = data_ALT['Mean_ALT'].tolist()\n",
    "combined_mean_values_AST = data_AST['Mean_AST'].tolist()\n",
    "combined_std_values_ALT = data_ALT['STD_ALT'].tolist()\n",
    "combined_std_values_AST = data_AST['STD_AST'].tolist()\n",
    "\n",
    "# Define the width of each bar\n",
    "bar_width = 0.25\n",
    "index = np.arange(len(combined_treatments))\n",
    "\n",
    "# Plotting the grouped bar chart\n",
    "plt.figure(figsize=(9, 6))\n",
    "\n",
    "# Plot bars for mean fold change values for ALT with blue color\n",
    "plt.bar(index, combined_mean_values_ALT, bar_width, label='ALT', edgecolor = 'black',color='pink')\n",
    "\n",
    "# Plot bars for mean fold change values for AST with red color\n",
    "plt.bar(index + bar_width, combined_mean_values_AST, bar_width, label='AST', edgecolor = 'black', color='springgreen')\n",
    "\n",
    "# Add error bars for standard deviations for ALT\n",
    "for i in range(len(combined_treatments)):\n",
    "    plt.errorbar(index[i], combined_mean_values_ALT[i], yerr=combined_std_values_ALT[i], fmt='o',  color=\"black\", capsize=5)\n",
    "\n",
    "# Add error bars for standard deviations for AST\n",
    "for i in range(len(combined_treatments)):\n",
    "    plt.errorbar(index[i] + bar_width, combined_mean_values_AST[i], yerr=combined_std_values_AST[i], fmt='o', color=\"black\", capsize=5)\n",
    "\n",
    "# Set x-axis ticks and labels\n",
    "plt.xticks(index + bar_width / 2, combined_treatments, rotation=45, ha=\"right\")\n",
    "\n",
    "plt.xlabel('Treatments')\n",
    "plt.ylabel('IU/L')\n",
    "plt.grid(True)\n",
    "plt.legend()\n",
    "\n",
    "plt.tight_layout()\n",
    "plt.savefig('LIVER ENZYMES.tif', dpi=600, format='tif')\n",
    "plt.show()\n"
   ]
  },
  {
   "cell_type": "markdown",
   "metadata": {},
   "source": [
    "## AST ANALYSIS"
   ]
  },
  {
   "cell_type": "code",
   "execution_count": null,
   "metadata": {},
   "outputs": [],
   "source": [
    "import pandas as pd\n",
    "import numpy as np\n",
    "from scipy.stats import f_oneway\n",
    "from statsmodels.stats.multicomp import pairwise_tukeyhsd\n",
    "\n",
    "df = pd.read_csv(\"LIVER ENZYMES (AST).csv\")\n",
    "\n",
    "df_melted = df.melt(id_vars='TREATMENT', var_name='Group', value_name='Values')\n",
    "\n",
    "f_stat, p_val = f_oneway(*[group['Values'] for name, group in df_melted.groupby('TREATMENT')])\n",
    "\n",
    "print(\"ANOVA Results using scipy:\")\n",
    "print(\"F-statistic:\", f_stat)\n",
    "print(\"p-value:\", p_val)\n",
    "\n",
    "tukey_result = pairwise_tukeyhsd(df_melted['Values'], df_melted['TREATMENT'])\n",
    "\n",
    "print(\"\\nTukey's HSD Test using statsmodels:\")\n",
    "print(tukey_result)\n"
   ]
  },
  {
   "cell_type": "markdown",
   "metadata": {},
   "source": [
    "## ALT ANALYSIS"
   ]
  },
  {
   "cell_type": "code",
   "execution_count": null,
   "metadata": {},
   "outputs": [],
   "source": [
    "import pandas as pd\n",
    "import numpy as np\n",
    "from scipy.stats import f_oneway\n",
    "from statsmodels.stats.multicomp import pairwise_tukeyhsd\n",
    "\n",
    "df = pd.read_csv(\"LIVER ENZYMES (ALT).csv\")\n",
    "\n",
    "df_melted = df.melt(id_vars='TREATMENT', var_name='Group', value_name='Values')\n",
    "\n",
    "f_stat, p_val = f_oneway(*[group['Values'] for name, group in df_melted.groupby('TREATMENT')])\n",
    "\n",
    "print(\"ANOVA Results using scipy:\")\n",
    "print(\"F-statistic:\", f_stat)\n",
    "print(\"p-value:\", p_val)\n",
    "\n",
    "tukey_result = pairwise_tukeyhsd(df_melted['Values'], df_melted['TREATMENT'])\n",
    "\n",
    "print(\"\\nTukey's HSD Test using statsmodels:\")\n",
    "print(tukey_result)\n"
   ]
  }
 ],
 "metadata": {
  "kernelspec": {
   "display_name": "base",
   "language": "python",
   "name": "python3"
  },
  "language_info": {
   "codemirror_mode": {
    "name": "ipython",
    "version": 3
   },
   "file_extension": ".py",
   "mimetype": "text/x-python",
   "name": "python",
   "nbconvert_exporter": "python",
   "pygments_lexer": "ipython3",
   "version": "3.10.9"
  }
 },
 "nbformat": 4,
 "nbformat_minor": 2
}
