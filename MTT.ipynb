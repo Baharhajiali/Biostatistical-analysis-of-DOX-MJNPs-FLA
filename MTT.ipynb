{
 "cells": [
  {
   "cell_type": "code",
   "execution_count": null,
   "metadata": {},
   "outputs": [],
   "source": [
    "import pandas as pd\n",
    "import matplotlib.pyplot as plt\n",
    "import numpy as np\n",
    "\n",
    "legend_labels = [\"MJNPs-FLA\", \"DOX/MJNPs-FLA\", \"DOX\"]\n",
    "\n",
    "csv_files = [\"MTT (MJNPs-FLA).csv\", \"MTT (DOX-MJNPs-FLA).csv\", \"MTT (DOX).csv\"]\n",
    "\n",
    "concentrations = []\n",
    "data_list = []\n",
    "\n",
    "for csv_file in csv_files:\n",
    "    data = pd.read_csv(csv_file)\n",
    "    data['Mean'] = data.iloc[:, 2:5].mean(axis=1)\n",
    "    data['SD'] = data.iloc[:, 2:5].std(axis=1)\n",
    "    concentrations.append(data['CONCENTRATION'].unique())\n",
    "    data_list.append(data)\n",
    "\n",
    "n = len(concentrations[0])\n",
    "width = 0.2\n",
    "\n",
    "plt.figure(figsize=(12, 6))\n",
    "\n",
    "for i, data in enumerate(data_list):\n",
    "    viability_means = []\n",
    "    viability_stds = []\n",
    "\n",
    "    for j, concentration in enumerate(concentrations[i]):\n",
    "        subset = data[data['CONCENTRATION'] == concentration]\n",
    "        viability_means.append(subset['Mean'].values[0])\n",
    "        viability_stds.append(subset['SD'].values[0])\n",
    "\n",
    "    ind = np.arange(n) + i * width\n",
    "    bars = plt.bar(ind, viability_means, edgecolor='black', yerr=viability_stds, capsize=5, width=width,\n",
    "                   label=legend_labels[i])\n",
    "\n",
    "plt.xlabel('Concentration (μM)')\n",
    "plt.ylabel('Viability (%)')\n",
    "plt.xticks(np.arange(n) + width * (len(data_list) - 1) / 2, concentrations[0])\n",
    "plt.legend(legend_labels, loc='upper right')\n",
    "plt.grid(True)\n",
    "plt.tight_layout()\n",
    "plt.savefig('MTT.tif', dpi=600, format='tif')\n",
    "plt.show()\n"
   ]
  }
 ],
 "metadata": {
  "kernelspec": {
   "display_name": "base",
   "language": "python",
   "name": "python3"
  },
  "language_info": {
   "codemirror_mode": {
    "name": "ipython",
    "version": 3
   },
   "file_extension": ".py",
   "mimetype": "text/x-python",
   "name": "python",
   "nbconvert_exporter": "python",
   "pygments_lexer": "ipython3",
   "version": "3.10.9"
  }
 },
 "nbformat": 4,
 "nbformat_minor": 2
}
